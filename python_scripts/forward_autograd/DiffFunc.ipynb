{
 "cells": [
  {
   "cell_type": "code",
   "execution_count": 1,
   "metadata": {},
   "outputs": [],
   "source": [
    "import numpy as np\n",
    "import torch\n",
    "import torch.nn as nn\n",
    "import torchvision.transforms as transforms\n",
    "from scipy import signal\n",
    "#import time #testing de tiempos\n",
    "from matplotlib import pyplot as plt\n",
    "from PIL import Image\n",
    "#import cProfile #testing de tiempos\n",
    "from joblib import Parallel, delayed  #multithreading \n",
    "from torch.utils.checkpoint import checkpoint"
   ]
  },
  {
   "cell_type": "code",
   "execution_count": 2,
   "metadata": {},
   "outputs": [],
   "source": [
    "def NegBit_diff(x):\n",
    "    x_in = x.clone()\n",
    "    return 1 / (1 + torch.exp(-(-15.43*x_in + 7.51)))"
   ]
  },
  {
   "cell_type": "code",
   "execution_count": 3,
   "metadata": {},
   "outputs": [],
   "source": [
    "def Real2Bit_diff(x):\n",
    "    #print(x)\n",
    "    #x_in = torch.empty((1), dtype=torch.float64)\n",
    "    x_in = x.clone()\n",
    "    return 1 / (1 + torch.exp(-(-5.43 + 10.81*x_in)))"
   ]
  },
  {
   "cell_type": "code",
   "execution_count": 4,
   "metadata": {},
   "outputs": [],
   "source": [
    "def XNOR_diff(x1, x2):\n",
    "    fc1_weight = torch.tensor([[4.7662,  4.8464],[-0.1215,  1.3168],[ 2.6322,  2.3068],[-0.0951, -0.4683]],dtype=torch.float32)\n",
    "    fc1_bias = torch.tensor([-1.5654,  0.3904, -3.6841, -0.0062],dtype=torch.float32)\n",
    "    fc2_weight = torch.tensor([[-5.6381,  1.5594,  5.0998, -0.2311]],dtype=torch.float32)\n",
    "    fc2_bias = torch.tensor([1.7433],dtype=torch.float32)\n",
    "\n",
    "    #x = torch.tensor([x1, x2],dtype=torch.float64)\n",
    "    x = torch.empty((2),dtype=torch.float32)\n",
    "    x[0] = x1\n",
    "    x[1] = x2\n",
    "    \n",
    "    fc1_output = torch.sigmoid(torch.matmul(x, fc1_weight.transpose(0, 1)) + fc1_bias)\n",
    "    fc2_output = torch.sigmoid(torch.matmul(fc1_output, fc2_weight.transpose(0, 1)) + fc2_bias)\n",
    "    #print(fc2_output)\n",
    "    return fc2_output"
   ]
  },
  {
   "cell_type": "code",
   "execution_count": 5,
   "metadata": {},
   "outputs": [],
   "source": [
    "def XOR_diff(x1, x2):\n",
    "    fc1_weight = torch.tensor([[-3.8973,  4.0330],[-4.1031,  3.8928],[-0.6775,  0.8108],[ 2.3834, -2.4550]],dtype=torch.float32)\n",
    "    fc1_bias = torch.tensor([ 2.2917, -2.1209, -0.6751, -1.6954],dtype=torch.float32)\n",
    "    fc2_weight = torch.tensor([[-4.5110,  5.7411,  1.0059,  2.4664]],dtype=torch.float32)\n",
    "    fc2_bias = torch.tensor([0.8839],dtype=torch.float32)\n",
    "\n",
    "    #x = torch.tensor([x1, x2],dtype=torch.float64)\n",
    "    x = torch.empty((2),dtype=torch.float32)\n",
    "    x[0] = x1\n",
    "    x[1] = x2\n",
    "    fc1_output = torch.sigmoid(torch.matmul(x, fc1_weight.transpose(0, 1)) + fc1_bias)\n",
    "    fc2_output = torch.sigmoid(torch.matmul(fc1_output, fc2_weight.transpose(0, 1)) + fc2_bias)\n",
    "\n",
    "    return fc2_output"
   ]
  },
  {
   "cell_type": "code",
   "execution_count": 6,
   "metadata": {},
   "outputs": [],
   "source": [
    "def OR_diff(x1, x2):\n",
    "    weight = torch.tensor([[13.5223, 13.5223]],dtype=torch.float32)\n",
    "    bias = torch.tensor([-6.3024],dtype=torch.float32)\n",
    "    #x = torch.tensor([x1, x2],dtype=torch.float64)\n",
    "    x = torch.empty((2),dtype=torch.float32)\n",
    "    x[0] = x1\n",
    "    x[1] = x2\n",
    "    output = torch.sigmoid(torch.matmul(x, weight.transpose(0, 1)) + bias)\n",
    "\n",
    "    return output"
   ]
  },
  {
   "cell_type": "code",
   "execution_count": 7,
   "metadata": {},
   "outputs": [],
   "source": [
    "#input must be float (each bit)\n",
    "def q_m_diff(input):\n",
    "    output = torch.tensor([input[0], 0, 0, 0, 0, 0, 0, 0, 0], dtype=torch.float32)\n",
    "    num_1 = torch.sum(input > 0.5)\n",
    "    if (num_1 > 4) or (num_1 == 4 and input[0] == 0):\n",
    "        for bit in range(1, 8):\n",
    "            output[bit] = Real2Bit_diff(XNOR_diff(output[bit-1], input[bit]))\n",
    "        output[8] = 0\n",
    "    else:\n",
    "        for bit in range(1, 8):\n",
    "            output[bit] = Real2Bit_diff(XOR_diff(output[bit-1], input[bit]))\n",
    "        output[8] = 1\n",
    "    return output"
   ]
  },
  {
   "cell_type": "code",
   "execution_count": 8,
   "metadata": {},
   "outputs": [],
   "source": [
    "#input must be float (each bit) example: [0.0 1.0 1.0 1.0 0.0 0.0 0.0 1.0], 2.0\n",
    "#output are tensors\n",
    "def TMDS_diff(pixel_bits,cnt):\n",
    "    bits_inversos = torch.flip(pixel_bits, dims = (0,))\n",
    "    #print(bits_inversos)\n",
    "    #bits_inversos = pixel_bits[::-1]\n",
    "\n",
    "    ###bits_inversos tiene grad_fn###\n",
    "    q_m = q_m_diff(bits_inversos)\n",
    "    ###q_m_diff tiene grad_fn###\n",
    "\n",
    "    q_m = Real2Bit_diff(q_m)\n",
    "    ###Real2Bit_diff tiene grad_fn###\n",
    "\n",
    "    output = torch.tensor([0, 0, 0, 0, 0, 0, 0, 0, 0, 0],dtype=torch.float32)\n",
    "    num_1 = torch.sum(q_m[:8] > 0.5)\n",
    "    num_0 = torch.sum(q_m[:8] < 0.5)\n",
    "    IndB = q_m[8] > 0.5\n",
    "    ###IndB_diff tiene grad_fn###\n",
    "\n",
    "    IndE = cnt == 0 or (num_1 == num_0)\n",
    "    ###IndE_diff tiene grad_fn###\n",
    "    \n",
    "    IndC = (cnt > 0 and (num_1 > num_0)) or (cnt < 0 and (num_0 > num_1))\n",
    "    ###IndC_diff tiene grad_fn###\n",
    "\n",
    "    Neg_q = NegBit_diff(q_m[:9])\n",
    "    ###NegBit_diff tiene grad_fn###\n",
    "\n",
    "    IndD = q_m[8] < 0.5\n",
    "    ###InD_diff tiene grad_fn###\n",
    "    \n",
    "    if (IndE and IndB) or (not(IndC) and not(IndE)):\n",
    "        output[:8] = q_m[:8]\n",
    "    else:\n",
    "        output[:8] = Neg_q[:8]\n",
    "    output[8] = q_m[8]\n",
    "    if IndE:\n",
    "        output[9] = Neg_q[8]\n",
    "        if IndD:\n",
    "            new_cnt = cnt + num_0 - num_1\n",
    "        else:\n",
    "            new_cnt = cnt + num_1 - num_0\n",
    "    else:\n",
    "        if IndC:\n",
    "            output[9] = 1\n",
    "            new_cnt = cnt + 2 * q_m[8] + num_0 - num_1\n",
    "        else:\n",
    "            output[9] = 0\n",
    "            new_cnt = cnt - 2 * Neg_q[8] + num_1 - num_0\n",
    "    return output,new_cnt"
   ]
  },
  {
   "attachments": {},
   "cell_type": "markdown",
   "metadata": {},
   "source": [
    "CAMBIOS...\n",
    "\n",
    "EN FUNCION PIXEL2BIT_DIFF: CAMBIO DEFINICION DE OUTPUT (ANTES LISTA, AHORA TORCH.TENSOR)\n",
    "EN FUNCION TMDS_DIFF: CAMBIO MODO DE INVERSION DE ARRAY (USANDO TORCH.FLIP)\n",
    "EN FUNCION QM_DIFF: POR CAMBIOS EN OTRAS FUNCIONES, EL INPUT YA ES UN TORCH.TENSOR"
   ]
  },
  {
   "cell_type": "code",
   "execution_count": 9,
   "metadata": {},
   "outputs": [],
   "source": [
    "def sigmoid(x):\n",
    "    x_in = x.clone()\n",
    "    if x >= 0:\n",
    "        return 1 / (1 + torch.exp(-x_in))\n",
    "    else:\n",
    "        return torch.exp(x_in) / (1 + torch.exp(x_in))\n",
    "\n",
    "def Pixel2Bit_diff(pixel):\n",
    "    output = torch.tensor([0, 0, 0, 0, 0, 0, 0, 0], dtype= torch.float32)\n",
    "    for i in range(1,9):\n",
    "        output[i-1] = sigmoid(10*(pixel-2**(8-i)+0.5))  # 0.5 para ajustar la sigmoidal\n",
    "        if pixel >= 2**(8-i):\n",
    "            pixel = pixel - 2**(8-i)\n",
    "    return output"
   ]
  },
  {
   "cell_type": "code",
   "execution_count": 10,
   "metadata": {},
   "outputs": [],
   "source": [
    "#funcion que toma como entrada el armonico a sintonizar y las dimensiones de la imagen a espiar y devuelve un array con taps de g(t)\n",
    "def g_taps(dim_vertical, dim_horizontal, armonico):\n",
    "\n",
    "    #defino variables iniciales\n",
    "    f_b = 10 * (dim_vertical * dim_horizontal * 60)\n",
    "    f_sdr = 50e6\n",
    "    harm = armonico * f_b\n",
    "    \n",
    "    #para el correcto funcionamiento: dependiendo del armonico, elijo cuantas muestras por pulso\n",
    "    if (armonico < 5 ):\n",
    "        muestras_por_pulso  = 10\n",
    "    else:\n",
    "        muestras_por_pulso  = 20\n",
    "\n",
    "    samp_rate = muestras_por_pulso * f_b\n",
    "    H_samples = dim_horizontal * muestras_por_pulso\n",
    "\n",
    "    #creo el pulso\n",
    "    t_continuous = np.linspace(start = 0, stop = H_samples/samp_rate, num = H_samples, endpoint= False)\n",
    "    pulso = np.zeros(H_samples)\n",
    "    pulso[:muestras_por_pulso] = 1\n",
    "\n",
    "    #traslado el espectro del pulso el armonico correspondiente\n",
    "    frec_armonico = np.exp(-2j*np.pi*harm*t_continuous)\n",
    "    pulso_complejo = pulso*frec_armonico\n",
    "\n",
    "    #creo el lpf del sdr\n",
    "    b, a = signal.butter(6, f_sdr/2, fs=samp_rate, btype='lowpass', analog=False)\n",
    "\n",
    "    #filtro con lpf el pulso multiplicado por armonico. El resultado es g\n",
    "    g_t = signal.lfilter(b, a, pulso_complejo)\n",
    "    g_t = signal.decimate(g_t,q = muestras_por_pulso)\n",
    "\n",
    "    # si armonico crece, necesito mas taps\n",
    "    if (armonico < 5):\n",
    "        g_t = g_t[:170]\n",
    "    else:\n",
    "        g_t = g_t[:3000]\n",
    "\n",
    "    g_t_max = np.max(np.abs(g_t))\n",
    " \n",
    "    g_t = g_t / g_t_max\n",
    "\n",
    "    return torch.tensor(g_t,dtype = torch.complex64).reshape(1,1,len(g_t))"
   ]
  },
  {
   "cell_type": "code",
   "execution_count": 11,
   "metadata": {},
   "outputs": [],
   "source": [
    "def TMDS_2_row(multiplicador,cant_filas,img,columnas):\n",
    "    \n",
    "    bits_cod_cant_filas = torch.zeros((1,1,10*columnas*cant_filas),dtype = torch.complex64)\n",
    "    for i in range(multiplicador*cant_filas, cant_filas*(multiplicador+1)):\n",
    "        cnt = 0\n",
    "        bits_cod_fila =  torch.zeros(10*columnas, dtype = torch.complex64)\n",
    "        for j in range(columnas):\n",
    "            pixel = img[i,j]\n",
    "            ###pixel tiene grad_fn ###\n",
    "\n",
    "            pixel_bits = Pixel2Bit_diff(pixel)\n",
    "            ###pixel_bits tiene grad_fn ###\n",
    "            \n",
    "            pixel_cod,cnt = TMDS_diff(pixel_bits, cnt)\n",
    "            ###TMDS_diff tiene grad_fn\n",
    "            #print(pixel_cod)  \n",
    "            \n",
    "            bits_cod_fila[j*10:(j+1)*10] = pixel_cod\n",
    "            ###bits_cod_fila tiene grad_fn\n",
    "            \n",
    "        bits_cod_cant_filas[0,0,(10*columnas)*(i-multiplicador*cant_filas):(10*columnas)*((i-multiplicador*cant_filas)+1)] = bits_cod_fila\n",
    "    return bits_cod_cant_filas"
   ]
  },
  {
   "cell_type": "code",
   "execution_count": 12,
   "metadata": {},
   "outputs": [],
   "source": [
    "def wrapper_TMDS_2_row(multiplicador,cant_filas,img,columnas):\n",
    "    bits_cod_cant_filas = checkpoint(TMDS_2_row,multiplicador,cant_filas,img,columnas)\n",
    "    print(bits_cod_cant_filas)\n",
    "    return bits_cod_cant_filas"
   ]
  },
  {
   "cell_type": "code",
   "execution_count": 13,
   "metadata": {},
   "outputs": [],
   "source": [
    "def encontrar_mayor_divisor(a, b): \n",
    "    while b != 0:\n",
    "        a, b = b, a % b\n",
    "    return a\n",
    "\n",
    "def Calc_filas_por_thread(filas, threads):  #calculo la max cantidad de filas para que todos calculen la misma cantidad y no sobren filas, para pasarle a cada hilo de forma de optimizar el uso de los hilos. Pasarle de a pocas filas es ineficiente\n",
    "    divisor = encontrar_mayor_divisor(filas,threads)\n",
    "    return filas // divisor"
   ]
  },
  {
   "cell_type": "code",
   "execution_count": 14,
   "metadata": {},
   "outputs": [],
   "source": [
    "def forward(img, armonico, num_threads):\n",
    "    filas, columnas = img.shape\n",
    "    g_t = g_taps(filas, columnas, armonico)\n",
    "    size_g_t = g_t.numel()    \n",
    "    padding = (size_g_t - 10)//2\n",
    "    filas_por_thread = Calc_filas_por_thread(filas,num_threads)\n",
    "\n",
    "    result = Parallel(n_jobs=num_threads)(delayed(wrapper_TMDS_2_row)(multiplicador,filas_por_thread,img,columnas) for multiplicador in range(num_threads)) # da mejores resultados por poquito el multiprocessing (Pool)\n",
    "    ###result tiene grad_fn###\n",
    "    #return result[0]\n",
    "    if num_threads == 1:\n",
    "        bits_TMDS = result[0]\n",
    "    else:\n",
    "        bits_TMDS = result[0]\n",
    "        for i in range(1, len(result)):\n",
    "            bits_TMDS = torch.cat((bits_TMDS, result[i]), dim = 2)\n",
    "    ###bits_TMDS tiene grad_fn\n",
    "    #return bits_TMDS\n",
    "    img_salida = nn.functional.conv1d(bits_TMDS, g_t, stride = 10, padding=padding, bias = None)[0,0,:].reshape((filas,columnas))\n",
    "    ###img_salida tiene grad_fn###\n",
    "        \n",
    "    return img_salida"
   ]
  },
  {
   "cell_type": "code",
   "execution_count": 16,
   "metadata": {},
   "outputs": [
    {
     "name": "stdout",
     "output_type": "stream",
     "text": [
      "tensor([[[0.0047+0.j, 0.0053+0.j, 0.0053+0.j,  ..., 0.0053+0.j, 0.9954+0.j, 0.0000+0.j]]],\n",
      "       grad_fn=<CheckpointFunctionBackward>)\n",
      "tensor([[-3.9006e-06+3.0444e-06j,  1.2992e-05-8.7430e-06j,\n",
      "          1.2182e-04-8.9033e-05j,  ...,\n",
      "          2.0766e+00-1.5319e+00j, -1.5854e+00+1.1581e+00j,\n",
      "          2.0529e+00-1.5148e+00j],\n",
      "        [-1.6708e+00+1.2225e+00j,  2.0719e+00-1.5157e+00j,\n",
      "          9.3651e-01-6.8899e-01j,  ...,\n",
      "         -6.2340e-01+4.7340e-01j, -6.2340e-01+4.7340e-01j,\n",
      "         -6.2342e-01+4.7341e-01j],\n",
      "        [-6.2338e-01+4.7339e-01j, -6.2306e-01+4.7315e-01j,\n",
      "         -6.2220e-01+4.7249e-01j,  ...,\n",
      "         -7.3162e-01+5.1442e-01j,  9.5731e-01-6.7889e-01j,\n",
      "          1.5577e+00-1.1405e+00j],\n",
      "        ...,\n",
      "        [-1.4169e+00+1.0738e+00j,  2.2220e+00-1.5846e+00j,\n",
      "          2.7174e+00-2.0011e+00j,  ...,\n",
      "          2.1426e+00-1.5840e+00j, -1.2446e+00+9.0533e-01j,\n",
      "          7.7468e-01-5.7758e-01j],\n",
      "        [ 8.9060e-01-6.4377e-01j,  9.9413e-01-7.6383e-01j,\n",
      "          6.6360e-01-4.7606e-01j,  ...,\n",
      "          1.6786e+00-1.2325e+00j, -5.5752e-02+5.1233e-02j,\n",
      "          2.3266e+00-1.7022e+00j],\n",
      "        [-7.6895e-01+5.4872e-01j,  8.7765e-01-7.0521e-01j,\n",
      "         -9.3151e-01+6.7507e-01j,  ...,\n",
      "         -2.4149e-01+1.3903e-01j, -5.5395e-01+3.8837e-01j,\n",
      "          1.1490e+00-8.5091e-01j]], grad_fn=<ReshapeAliasBackward0>)\n"
     ]
    }
   ],
   "source": [
    "image_path = '../../images/VAMO!!.png'\n",
    "#img = np.zeros((96,96))\n",
    "img = np.asarray(Image.open(image_path))[:,:,0] #solo canal rojo\n",
    "img_torch = torch.tensor(img, dtype = torch.float32, requires_grad= True)\n",
    "\n",
    "armonico = 3\n",
    "num_threads = 1 # elegir numeros de hilos del cpu (dejar alguno libre para que no explote la PC)\n",
    "#cProfile.runctx('forward(imag,armonico)', globals(), locals()) \n",
    "imagen = forward(img_torch, armonico,num_threads)\n",
    "print(imagen)"
   ]
  },
  {
   "cell_type": "code",
   "execution_count": 17,
   "metadata": {},
   "outputs": [
    {
     "ename": "",
     "evalue": "",
     "output_type": "error",
     "traceback": [
      "\u001b[1;31mCannot execute code, session has been disposed. Please try restarting the Kernel."
     ]
    },
    {
     "ename": "",
     "evalue": "",
     "output_type": "error",
     "traceback": [
      "\u001b[1;31mThe Kernel crashed while executing code in the the current cell or a previous cell. Please review the code in the cell(s) to identify a possible cause of the failure. Click <a href='https://aka.ms/vscodeJupyterKernelCrash'>here</a> for more info. View Jupyter <a href='command:jupyter.viewOutput'>log</a> for further details."
     ]
    }
   ],
   "source": [
    "imagen.backward(gradient=torch.ones_like(imagen),retain_graph=True)\n",
    "#imagen.backward()"
   ]
  },
  {
   "cell_type": "code",
   "execution_count": null,
   "metadata": {},
   "outputs": [
    {
     "name": "stdout",
     "output_type": "stream",
     "text": [
      "None\n"
     ]
    }
   ],
   "source": [
    "print(img_torch.grad)"
   ]
  },
  {
   "cell_type": "code",
   "execution_count": null,
   "metadata": {},
   "outputs": [
    {
     "data": {
      "image/png": "[encoded data removed]",
      "text/plain": [
       "<Figure size 640x480 with 1 Axes>"
      ]
     },
     "metadata": {},
     "output_type": "display_data"
    }
   ],
   "source": [
    "img_sim = np.abs(imagen.detach().numpy())\n",
    "\n",
    "plt.figure()\n",
    "plt.imshow(255*((img_sim - img_sim.min())/(img_sim.max()-img_sim.min())),cmap='gray')\n",
    "plt.show()"
   ]
  }
 ],
 "metadata": {
  "kernelspec": {
   "display_name": "Python 3",
   "language": "python",
   "name": "python3"
  },
  "language_info": {
   "codemirror_mode": {
    "name": "ipython",
    "version": 3
   },
   "file_extension": ".py",
   "mimetype": "text/x-python",
   "name": "python",
   "nbconvert_exporter": "python",
   "pygments_lexer": "ipython3",
   "version": "3.8.16"
  },
  "orig_nbformat": 4
 },
 "nbformat": 4,
 "nbformat_minor": 2
}
