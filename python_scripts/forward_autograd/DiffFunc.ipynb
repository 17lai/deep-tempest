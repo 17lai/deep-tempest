{
 "cells": [
  {
   "cell_type": "code",
   "execution_count": 17,
   "metadata": {},
   "outputs": [],
   "source": [
    "import numpy as np\n",
    "import torch\n",
    "import torch.nn as nn\n",
    "import torchvision.transforms as transforms\n",
    "from scipy import signal\n",
    "#import time #testing de tiempos\n",
    "from matplotlib import pyplot as plt\n",
    "from PIL import Image\n",
    "#import cProfile #testing de tiempos\n",
    "from joblib import Parallel, delayed  #multithreading "
   ]
  },
  {
   "cell_type": "code",
   "execution_count": 18,
   "metadata": {},
   "outputs": [],
   "source": [
    "# Definir una red neuronal simple\n",
    "class Model_qm(nn.Module):\n",
    "    def __init__(self):\n",
    "        super(Model_qm, self).__init__()\n",
    "        self.fc1 = nn.Linear(8, 32)\n",
    "        self.fc2 = nn.Linear(32, 64)\n",
    "        self.fc3 = nn.Linear(64, 8)\n",
    "\n",
    "    def forward(self, x):\n",
    "        x = torch.relu(self.fc1(x))\n",
    "        x = torch.relu(self.fc2(x))\n",
    "        x = torch.sigmoid(self.fc3(x))\n",
    "        return x"
   ]
  },
  {
   "cell_type": "code",
   "execution_count": 19,
   "metadata": {},
   "outputs": [],
   "source": [
    "q_m_XOR = Model_qm()\n",
    "state_dict_XOR = torch.load('q_m_XOR.pth')\n",
    "q_m_XOR.load_state_dict(state_dict_XOR)\n",
    "#input must be tensor with float (each bit)\n",
    "def q_m_XOR_diff(bits):\n",
    "    return q_m_XOR(bits)"
   ]
  },
  {
   "cell_type": "code",
   "execution_count": 20,
   "metadata": {},
   "outputs": [],
   "source": [
    "q_m_XNOR = Model_qm()\n",
    "state_dict_XNOR = torch.load('q_m_XNOR.pth')\n",
    "q_m_XNOR.load_state_dict(state_dict_XNOR)\n",
    "#input must be tensor with float (each bit)\n",
    "def q_m_XNOR_diff(bits):\n",
    "    return q_m_XNOR(bits)"
   ]
  },
  {
   "cell_type": "code",
   "execution_count": 21,
   "metadata": {},
   "outputs": [],
   "source": [
    "#input must be float (each bit)\n",
    "def q_m_diff(input):\n",
    "    output = torch.tensor([input[0], 0, 0, 0, 0, 0, 0, 0, 0], dtype=torch.float32)\n",
    "    num_1 = torch.sum(input > 0.5)\n",
    "    if (num_1 > 4) or (num_1 == 4 and input[0] == 0):\n",
    "        output[:8] = q_m_XNOR_diff(input)\n",
    "        output[8] = 0\n",
    "    else:\n",
    "        output[:8] = q_m_XOR_diff(input)\n",
    "        output[8] = 1\n",
    "    return output"
   ]
  },
  {
   "cell_type": "code",
   "execution_count": 22,
   "metadata": {},
   "outputs": [],
   "source": [
    "#input must be float (each bit) example: [0.0 1.0 1.0 1.0 0.0 0.0 0.0 1.0], 2.0\n",
    "#output are tensors\n",
    "def TMDS_diff(pixel_bits,cnt):\n",
    "    bits_inversos = torch.flip(pixel_bits, dims = (0,))\n",
    "    #print(bits_inversos)\n",
    "    #bits_inversos = pixel_bits[::-1]\n",
    "\n",
    "    ###bits_inversos tiene grad_fn###\n",
    "    q_m = q_m_diff(bits_inversos)\n",
    "    ###q_m_diff tiene grad_fn###\n",
    "\n",
    "    output = torch.tensor([0, 0, 0, 0, 0, 0, 0, 0, 0, 0],dtype=torch.float32)\n",
    "    num_1 = torch.sum(q_m[:8] > 0.5)\n",
    "    num_0 = torch.sum(q_m[:8] < 0.5)\n",
    "    IndB = q_m[8] > 0.5\n",
    "    ###IndB_diff tiene grad_fn###\n",
    "\n",
    "    IndE = cnt == 0 or (num_1 == num_0)\n",
    "    ###IndE_diff tiene grad_fn###\n",
    "    \n",
    "    IndC = (cnt > 0 and (num_1 > num_0)) or (cnt < 0 and (num_0 > num_1))\n",
    "    ###IndC_diff tiene grad_fn###\n",
    "\n",
    "    Neg_q = 1 - q_m\n",
    "\n",
    "    IndD = q_m[8] < 0.5\n",
    "    ###InD_diff tiene grad_fn###\n",
    "    \n",
    "    if (IndE and IndB) or (not(IndC) and not(IndE)):\n",
    "        output[:8] = q_m[:8]\n",
    "    else:\n",
    "        output[:8] = Neg_q[:8]\n",
    "    output[8] = q_m[8]\n",
    "    if IndE:\n",
    "        output[9] = Neg_q[8]\n",
    "        if IndD:\n",
    "            new_cnt = cnt + num_0 - num_1\n",
    "        else:\n",
    "            new_cnt = cnt + num_1 - num_0\n",
    "    else:\n",
    "        if IndC:\n",
    "            output[9] = 1\n",
    "            new_cnt = cnt + 2 * q_m[8] + num_0 - num_1\n",
    "        else:\n",
    "            output[9] = 0\n",
    "            new_cnt = cnt - 2 * Neg_q[8] + num_1 - num_0\n",
    "    return output,new_cnt"
   ]
  },
  {
   "attachments": {},
   "cell_type": "markdown",
   "metadata": {},
   "source": [
    "CAMBIOS...\n",
    "\n",
    "EN FUNCION PIXEL2BIT_DIFF: CAMBIO DEFINICION DE OUTPUT (ANTES LISTA, AHORA TORCH.TENSOR)\n",
    "EN FUNCION TMDS_DIFF: CAMBIO MODO DE INVERSION DE ARRAY (USANDO TORCH.FLIP)\n",
    "EN FUNCION QM_DIFF: POR CAMBIOS EN OTRAS FUNCIONES, EL INPUT YA ES UN TORCH.TENSOR"
   ]
  },
  {
   "cell_type": "code",
   "execution_count": 23,
   "metadata": {},
   "outputs": [],
   "source": [
    "def sigmoid(x):\n",
    "    x_in = x.clone()\n",
    "    if x >= 0:\n",
    "        return 1 / (1 + torch.exp(-x_in))\n",
    "    else:\n",
    "        return torch.exp(x_in) / (1 + torch.exp(x_in))\n",
    "\n",
    "def Pixel2Bit_diff(pixel):\n",
    "    output = torch.tensor([0, 0, 0, 0, 0, 0, 0, 0], dtype= torch.float32)\n",
    "    for i in range(1,9):\n",
    "        output[i-1] = sigmoid(10*(pixel-2**(8-i)+0.5))  # 0.5 para ajustar la sigmoidal\n",
    "        if pixel >= 2**(8-i):\n",
    "            pixel = pixel - 2**(8-i)\n",
    "    return output"
   ]
  },
  {
   "cell_type": "code",
   "execution_count": 24,
   "metadata": {},
   "outputs": [],
   "source": [
    "#funcion que toma como entrada el armonico a sintonizar y las dimensiones de la imagen a espiar y devuelve un array con taps de g(t)\n",
    "def g_taps(dim_vertical, dim_horizontal, armonico):\n",
    "\n",
    "    #defino variables iniciales\n",
    "    f_b = 10 * (dim_vertical * dim_horizontal * 60)\n",
    "    f_sdr = 50e6\n",
    "    harm = armonico * f_b\n",
    "    \n",
    "    #para el correcto funcionamiento: dependiendo del armonico, elijo cuantas muestras por pulso\n",
    "    if (armonico < 5 ):\n",
    "        muestras_por_pulso  = 10\n",
    "    else:\n",
    "        muestras_por_pulso  = 20\n",
    "\n",
    "    samp_rate = muestras_por_pulso * f_b\n",
    "    H_samples = dim_horizontal * muestras_por_pulso\n",
    "\n",
    "    #creo el pulso\n",
    "    t_continuous = np.linspace(start = 0, stop = H_samples/samp_rate, num = H_samples, endpoint= False)\n",
    "    pulso = np.zeros(H_samples)\n",
    "    pulso[:muestras_por_pulso] = 1\n",
    "\n",
    "    #traslado el espectro del pulso el armonico correspondiente\n",
    "    frec_armonico = np.exp(-2j*np.pi*harm*t_continuous)\n",
    "    pulso_complejo = pulso*frec_armonico\n",
    "\n",
    "    #creo el lpf del sdr\n",
    "    b, a = signal.butter(6, f_sdr/2, fs=samp_rate, btype='lowpass', analog=False)\n",
    "\n",
    "    #filtro con lpf el pulso multiplicado por armonico. El resultado es g\n",
    "    g_t = signal.lfilter(b, a, pulso_complejo)\n",
    "    g_t = signal.decimate(g_t,q = muestras_por_pulso)\n",
    "\n",
    "    # si armonico crece, necesito mas taps\n",
    "    if (armonico < 5):\n",
    "        g_t = g_t[:170]\n",
    "    else:\n",
    "        g_t = g_t[:3000]\n",
    "\n",
    "    g_t_max = np.max(np.abs(g_t))\n",
    " \n",
    "    g_t = g_t / g_t_max\n",
    "\n",
    "    return torch.tensor(g_t,dtype = torch.complex64).reshape(1,1,len(g_t))"
   ]
  },
  {
   "cell_type": "code",
   "execution_count": 25,
   "metadata": {},
   "outputs": [],
   "source": [
    "def TMDS_2_row(multiplicador,cant_filas,img,columnas):\n",
    "    bits_cod_cant_filas = torch.zeros((1,1,10*columnas*cant_filas),dtype = torch.complex64)\n",
    "    for i in range(multiplicador*cant_filas, cant_filas*(multiplicador+1)):\n",
    "        cnt = 0\n",
    "        bits_cod_fila =  torch.zeros(10*columnas, dtype = torch.complex64)\n",
    "        for j in range(columnas):\n",
    "            pixel = img[i,j]\n",
    "            ###pixel tiene grad_fn ###\n",
    "\n",
    "            pixel_bits = Pixel2Bit_diff(pixel)\n",
    "            ###pixel_bits tiene grad_fn ###\n",
    "            \n",
    "            pixel_cod,cnt = TMDS_diff(pixel_bits, cnt)\n",
    "            ###TMDS_diff tiene grad_fn\n",
    "            #print(pixel_cod)  \n",
    "            \n",
    "            bits_cod_fila[j*10:(j+1)*10] = pixel_cod\n",
    "            ###bits_cod_fila tiene grad_fn\n",
    "            \n",
    "        bits_cod_cant_filas[0,0,(10*columnas)*(i-multiplicador*cant_filas):(10*columnas)*((i-multiplicador*cant_filas)+1)] = bits_cod_fila\n",
    "    return bits_cod_cant_filas"
   ]
  },
  {
   "cell_type": "code",
   "execution_count": 26,
   "metadata": {},
   "outputs": [],
   "source": [
    "def encontrar_mayor_divisor(a, b): \n",
    "    while b != 0:\n",
    "        a, b = b, a % b\n",
    "    return a\n",
    "\n",
    "def Calc_filas_por_thread(filas, threads):  #calculo la max cantidad de filas para que todos calculen la misma cantidad y no sobren filas, para pasarle a cada hilo de forma de optimizar el uso de los hilos. Pasarle de a pocas filas es ineficiente\n",
    "    divisor = encontrar_mayor_divisor(filas,threads)\n",
    "    return filas // divisor"
   ]
  },
  {
   "cell_type": "code",
   "execution_count": 27,
   "metadata": {},
   "outputs": [],
   "source": [
    "def forward(img, armonico, num_threads):\n",
    "    filas, columnas = img.shape\n",
    "    g_t = g_taps(filas, columnas, armonico)\n",
    "    size_g_t = g_t.numel()    \n",
    "    padding = (size_g_t - 10)//2\n",
    "    filas_por_thread = Calc_filas_por_thread(filas,num_threads)\n",
    "\n",
    "    result = Parallel(n_jobs=num_threads)(delayed(TMDS_2_row)(multiplicador,filas_por_thread,img,columnas) for multiplicador in range(num_threads)) # da mejores resultados por poquito el multiprocessing (Pool)\n",
    "    ###result tiene grad_fn###\n",
    "    #return result[0]\n",
    "    if num_threads == 1:\n",
    "        bits_TMDS = result[0]\n",
    "    else:\n",
    "        bits_TMDS = result[0]\n",
    "        for i in range(1, len(result)):\n",
    "            bits_TMDS = torch.cat((bits_TMDS, result[i]), dim = 2)\n",
    "    ###bits_TMDS tiene grad_fn\n",
    "    #return bits_TMDS\n",
    "    img_salida = nn.functional.conv1d(bits_TMDS, g_t, stride = 10, padding=padding, bias = None)[0,0,:].reshape((filas,columnas))\n",
    "    ###img_salida tiene grad_fn###\n",
    "        \n",
    "    return img_salida"
   ]
  },
  {
   "cell_type": "code",
   "execution_count": 28,
   "metadata": {},
   "outputs": [
    {
     "name": "stdout",
     "output_type": "stream",
     "text": [
      "tensor([[-1.0458e-05+1.7852e-07j,  2.7771e-05-3.9061e-06j,\n",
      "          5.2324e-04-2.5223e-05j,  ...,\n",
      "          7.8755e-01+6.7438e-02j, -2.7092e-01+6.0032e-02j,\n",
      "         -2.8534e-01+5.5735e-02j],\n",
      "        [ 7.8082e-01+6.7681e-02j, -2.8534e-01+5.5735e-02j,\n",
      "          7.8082e-01+6.7681e-02j,  ...,\n",
      "          7.8755e-01+6.7438e-02j, -2.7092e-01+6.0032e-02j,\n",
      "         -2.8534e-01+5.5735e-02j],\n",
      "        [ 7.8082e-01+6.7681e-02j, -2.8534e-01+5.5735e-02j,\n",
      "          7.8082e-01+6.7681e-02j,  ...,\n",
      "          7.8755e-01+6.7438e-02j, -2.7092e-01+6.0032e-02j,\n",
      "         -2.8534e-01+5.5735e-02j],\n",
      "        ...,\n",
      "        [ 7.8082e-01+6.7681e-02j, -2.8534e-01+5.5735e-02j,\n",
      "          7.8082e-01+6.7681e-02j,  ...,\n",
      "          7.8755e-01+6.7438e-02j, -2.7092e-01+6.0032e-02j,\n",
      "         -2.8534e-01+5.5735e-02j],\n",
      "        [ 7.8082e-01+6.7681e-02j, -2.8534e-01+5.5735e-02j,\n",
      "          7.8082e-01+6.7681e-02j,  ...,\n",
      "          7.8755e-01+6.7438e-02j, -2.7092e-01+6.0032e-02j,\n",
      "         -2.8534e-01+5.5735e-02j],\n",
      "        [ 7.8082e-01+6.7681e-02j, -2.8534e-01+5.5735e-02j,\n",
      "          7.8082e-01+6.7681e-02j,  ...,\n",
      "          7.8755e-01+6.7438e-02j, -2.7092e-01+6.0032e-02j,\n",
      "         -2.8534e-01+5.5734e-02j]], grad_fn=<ReshapeAliasBackward0>)\n"
     ]
    }
   ],
   "source": [
    "image_path = '../../images/VAMO!!.png'\n",
    "img = np.zeros((96,96))\n",
    "#img = np.asarray(Image.open(image_path))[:,:,0] #solo canal rojo\n",
    "img_torch = torch.tensor(img, dtype = torch.float32, requires_grad= True)\n",
    "\n",
    "armonico = 3\n",
    "num_threads = 1 # elegir numeros de hilos del cpu (dejar alguno libre para que no explote la PC)\n",
    "#cProfile.runctx('forward(imag,armonico)', globals(), locals()) \n",
    "imagen = forward(img_torch, armonico,num_threads)"
   ]
  },
  {
   "cell_type": "code",
   "execution_count": 29,
   "metadata": {},
   "outputs": [],
   "source": [
    "imagen.backward(gradient=torch.ones_like(imagen),retain_graph=True)\n",
    "#imagen.backward()"
   ]
  },
  {
   "cell_type": "code",
   "execution_count": 30,
   "metadata": {},
   "outputs": [
    {
     "name": "stdout",
     "output_type": "stream",
     "text": [
      "None\n"
     ]
    }
   ],
   "source": [
    "print(img_torch.grad)"
   ]
  },
  {
   "cell_type": "code",
   "execution_count": 31,
   "metadata": {},
   "outputs": [
    {
     "data": {
      "image/png": "[encoded data removed]",
      "text/plain": [
       "<Figure size 640x480 with 1 Axes>"
      ]
     },
     "metadata": {},
     "output_type": "display_data"
    }
   ],
   "source": [
    "img_sim = np.abs(imagen.detach().numpy())\n",
    "\n",
    "plt.figure()\n",
    "plt.imshow(255*((img_sim - img_sim.min())/(img_sim.max()-img_sim.min())),cmap='gray')\n",
    "plt.show()"
   ]
  }
 ],
 "metadata": {
  "kernelspec": {
   "display_name": "Python 3",
   "language": "python",
   "name": "python3"
  },
  "language_info": {
   "codemirror_mode": {
    "name": "ipython",
    "version": 3
   },
   "file_extension": ".py",
   "mimetype": "text/x-python",
   "name": "python",
   "nbconvert_exporter": "python",
   "pygments_lexer": "ipython3",
   "version": "3.10.6"
  },
  "orig_nbformat": 4
 },
 "nbformat": 4,
 "nbformat_minor": 2
}
