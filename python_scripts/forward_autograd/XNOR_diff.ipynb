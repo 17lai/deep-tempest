{
 "cells": [
  {
   "cell_type": "code",
   "execution_count": 2,
   "metadata": {},
   "outputs": [],
   "source": [
    "import torch\n",
    "import torch.nn as nn\n",
    "import torch.optim as optim"
   ]
  },
  {
   "cell_type": "code",
   "execution_count": 3,
   "metadata": {},
   "outputs": [],
   "source": [
    "# Definir los datos de entrada y salida para la función XNOR\n",
    "X = torch.tensor([[0, 0], [0, 1], [1, 0], [1, 1]], dtype=torch.float32)\n",
    "y = torch.tensor([[1], [0], [0], [1]], dtype=torch.float32)"
   ]
  },
  {
   "cell_type": "code",
   "execution_count": 4,
   "metadata": {},
   "outputs": [],
   "source": [
    "# Definir la estructura de la red neuronal\n",
    "class XNOR_MLP(nn.Module):\n",
    "    def __init__(self):\n",
    "        super(XNOR_MLP, self).__init__()\n",
    "        self.fc1 = nn.Linear(2, 4)\n",
    "        self.fc2 = nn.Linear(4, 1)\n",
    "        self.activation = nn.Sigmoid()\n",
    "\n",
    "    def forward(self, x):\n",
    "        x = self.activation(self.fc1(x))\n",
    "        x = self.activation(self.fc2(x))\n",
    "        return x"
   ]
  },
  {
   "cell_type": "code",
   "execution_count": 5,
   "metadata": {},
   "outputs": [],
   "source": [
    "# Instanciar la red neuronal\n",
    "net = XNOR_MLP()\n",
    "\n",
    "# Definir la función de pérdida y el optimizador\n",
    "criterion = nn.MSELoss()\n",
    "optimizer = optim.SGD(net.parameters(), lr=0.1)"
   ]
  },
  {
   "cell_type": "code",
   "execution_count": 6,
   "metadata": {},
   "outputs": [],
   "source": [
    "# Entrenamiento de la red neuronal\n",
    "for epoch in range(10000):\n",
    "    optimizer.zero_grad()   # Limpiar los gradientes de los parámetros\n",
    "    output = net(X)         # Forward pass\n",
    "    loss = criterion(output, y)  # Calcular la función de pérdida\n",
    "    loss.backward()         # Backward pass\n",
    "    optimizer.step()        # Actualizar los parámetros"
   ]
  },
  {
   "cell_type": "code",
   "execution_count": 15,
   "metadata": {},
   "outputs": [
    {
     "name": "stdout",
     "output_type": "stream",
     "text": [
      "tensor([[0.8466],\n",
      "        [0.1928],\n",
      "        [0.1708],\n",
      "        [0.7835]])\n",
      "tensor([[1],\n",
      "        [0],\n",
      "        [0],\n",
      "        [1]], dtype=torch.int32)\n"
     ]
    }
   ],
   "source": [
    "# Evaluar la red neuronal\n",
    "net.eval()          # Cambiar a modo evaluación\n",
    "with torch.no_grad():\n",
    "    output = net(X)\n",
    "    print(output)\n",
    "    output =output.round()\n",
    "    print(output.int())"
   ]
  },
  {
   "cell_type": "code",
   "execution_count": 18,
   "metadata": {},
   "outputs": [
    {
     "name": "stdout",
     "output_type": "stream",
     "text": [
      "fc1.weight tensor([[ 4.7662,  4.8464],\n",
      "        [-0.1215,  1.3168],\n",
      "        [ 2.6322,  2.3068],\n",
      "        [-0.0951, -0.4683]])\n",
      "fc1.bias tensor([-1.5654,  0.3904, -3.6841, -0.0062])\n",
      "fc2.weight tensor([[-5.6381,  1.5594,  5.0998, -0.2311]])\n",
      "fc2.bias tensor([1.7433])\n"
     ]
    }
   ],
   "source": [
    "# Imprimir los parámetros de todas las capas de la red neuronal\n",
    "for name, param in net.named_parameters():\n",
    "    if 'weight' in name:\n",
    "        print(name, param.data)\n",
    "    if 'bias' in name:\n",
    "        print(name, param.data)"
   ]
  }
 ],
 "metadata": {
  "kernelspec": {
   "display_name": "Python 3",
   "language": "python",
   "name": "python3"
  },
  "language_info": {
   "codemirror_mode": {
    "name": "ipython",
    "version": 3
   },
   "file_extension": ".py",
   "mimetype": "text/x-python",
   "name": "python",
   "nbconvert_exporter": "python",
   "pygments_lexer": "ipython3",
   "version": "3.10.6"
  },
  "orig_nbformat": 4
 },
 "nbformat": 4,
 "nbformat_minor": 2
}
