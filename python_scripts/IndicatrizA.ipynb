{
 "cells": [
  {
   "cell_type": "code",
   "execution_count": 21,
   "metadata": {},
   "outputs": [],
   "source": [
    "import torch\n",
    "import torch.nn as nn\n",
    "import torch.optim as optim\n",
    "import numpy as np\n"
   ]
  },
  {
   "cell_type": "code",
   "execution_count": 22,
   "metadata": {},
   "outputs": [],
   "source": [
    "# Definir la red neuronal\n",
    "class BinaryClassifier(nn.Module):\n",
    "    def __init__(self):\n",
    "        super(BinaryClassifier, self).__init__()\n",
    "        self.fc1 = nn.Linear(8, 16)\n",
    "        self.fc2 = nn.Linear(16, 32)\n",
    "        self.fc3 = nn.Linear(32, 1)\n",
    "    \n",
    "    def forward(self, x):\n",
    "        x = torch.sigmoid(self.fc1(x))\n",
    "        x = torch.sigmoid(self.fc2(x))\n",
    "        x = torch.sigmoid(self.fc3(x))\n",
    "        return x"
   ]
  },
  {
   "cell_type": "code",
   "execution_count": 23,
   "metadata": {},
   "outputs": [
    {
     "name": "stdout",
     "output_type": "stream",
     "text": [
      "Valores:\n",
      "[[0 0 1 0 1 0 1 1]\n",
      " [1 1 0 1 0 0 0 1]\n",
      " [1 1 1 1 1 1 1 1]\n",
      " [0 0 0 0 0 1 1 1]]\n",
      "Etiquetas:\n",
      "[0 0 0 0 0 0 0 0 0 0 0 0 0 0 0 1 0 0 0 0 0 0 0 1 0 0 0 1 0 1 1 1 0 0 0 0 0\n",
      " 0 0 1 0 0 0 1 0 1 1 1 0 0 0 1 0 1 1 1 0 1 1 1 1 1 1 1 0 0 0 0 0 0 0 1 0 0\n",
      " 0 1 0 1 1 1 0 0 0 1 0 1 1 1 0 1 1 1 1 1 1 1 0 0 0 1 0 1 1 1 0 1 1 1 1 1 1\n",
      " 1 0 1 1 1 1 1 1 1 1 1 1 1 1 1 1 1 0 0 0 0 0 0 0 0 0 0 0 0 0 0 0 1 0 0 0 0\n",
      " 0 0 0 1 0 0 0 1 0 1 1 1 0 0 0 0 0 0 0 1 0 0 0 1 0 1 1 1 0 0 0 1 0 1 1 1 0\n",
      " 1 1 1 1 1 1 1 0 0 0 0 0 0 0 1 0 0 0 1 0 1 1 1 0 0 0 1 0 1 1 1 0 1 1 1 1 1\n",
      " 1 1 0 0 0 1 0 1 1 1 0 1 1 1 1 1 1 1 0 1 1 1 1 1 1 1 1 1 1 1 1 1 1 1]\n"
     ]
    }
   ],
   "source": [
    "# Generar todos los números de 8 bits\n",
    "numbers = np.arange(256, dtype=np.uint8)\n",
    "binary_numbers = np.unpackbits(numbers.reshape(-1, 1), axis=1)\n",
    "\n",
    "# Calcular la cantidad de bits de 1 en cada número\n",
    "num_ones = np.sum(binary_numbers, axis=1)\n",
    "\n",
    "# Etiquetar los números que cumplen con la condición\n",
    "labels = np.where((num_ones > 4) | ((num_ones == 4) & (binary_numbers[:, 0] == 0)), 1, 0)\n",
    "print(\"Valores:\")\n",
    "print(binary_values)\n",
    "print(\"Etiquetas:\")\n",
    "print(labels)\n",
    "\n",
    "# Convertir los datos a tensores de PyTorch\n",
    "X = torch.tensor(binary_numbers, dtype=torch.float32)\n",
    "y = torch.tensor(labels.reshape(-1, 1), dtype=torch.float32)\n"
   ]
  },
  {
   "cell_type": "code",
   "execution_count": 24,
   "metadata": {},
   "outputs": [],
   "source": [
    "# Inicializar la red neuronal, la función de pérdida y el optimizador\n",
    "model = BinaryClassifier()\n",
    "criterion = nn.BCELoss()\n",
    "optimizer = optim.Adam(model.parameters(), lr=0.01)"
   ]
  },
  {
   "cell_type": "code",
   "execution_count": 25,
   "metadata": {},
   "outputs": [
    {
     "name": "stdout",
     "output_type": "stream",
     "text": [
      "Época [1000/10000], Pérdida: 0.0001\n",
      "Época [2000/10000], Pérdida: 0.0000\n",
      "Época [3000/10000], Pérdida: 0.0000\n",
      "Época [4000/10000], Pérdida: 0.0000\n",
      "Época [5000/10000], Pérdida: 0.0000\n",
      "Época [6000/10000], Pérdida: 0.0000\n",
      "Época [7000/10000], Pérdida: 0.0000\n",
      "Época [8000/10000], Pérdida: 0.0000\n",
      "Época [9000/10000], Pérdida: 0.0000\n",
      "Época [10000/10000], Pérdida: 0.0000\n"
     ]
    }
   ],
   "source": [
    "# Entrenar la red neuronal\n",
    "num_epochs = 10000\n",
    "for epoch in range(num_epochs):\n",
    "    # Paso de adelante (forward)\n",
    "    y_pred = model(X)\n",
    "    \n",
    "    # Calcular la pérdida\n",
    "    loss = criterion(y_pred, y)\n",
    "    \n",
    "    # Paso de atrás (backward) y actualización de los pesos\n",
    "    optimizer.zero_grad()\n",
    "    loss.backward()\n",
    "    optimizer.step()\n",
    "    \n",
    "    # Imprimir la pérdida en cada 1000 épocas\n",
    "    if (epoch + 1) % 1000 == 0:\n",
    "        print(f'Época [{epoch + 1}/{num_epochs}], Pérdida: {loss.item():.4f}')"
   ]
  },
  {
   "cell_type": "code",
   "execution_count": 26,
   "metadata": {},
   "outputs": [
    {
     "name": "stdout",
     "output_type": "stream",
     "text": [
      "Precisión en el conjunto de datos completo: 1.0000\n"
     ]
    }
   ],
   "source": [
    "# Evaluar la precisión del modelo en el conjunto de datos completo\n",
    "with torch.no_grad():\n",
    "    y_pred = model(X)\n",
    "    y_pred = torch.round(y_pred)\n",
    "    accuracy = (y_pred == y).sum().item() / y.size(0)\n",
    "    print(f'Precisión en el conjunto de datos completo: {accuracy:.4f}')"
   ]
  },
  {
   "cell_type": "code",
   "execution_count": 27,
   "metadata": {},
   "outputs": [
    {
     "name": "stdout",
     "output_type": "stream",
     "text": [
      "Valores de entrada:\n",
      "[[0 0 1 0 1 0 1 1]\n",
      " [1 1 0 1 0 0 0 1]\n",
      " [1 1 1 1 1 1 1 1]\n",
      " [0 0 0 0 0 1 1 1]]\n",
      "Etiquetas predichas:\n",
      "[1 0 1 0]\n"
     ]
    }
   ],
   "source": [
    "values = np.array([0b00101011, 0b11010001, 0b11111111, 0b00000111], dtype=np.uint8)\n",
    "binary_values = np.unpackbits(values.reshape(-1, 1), axis=1)\n",
    "X_pred = torch.tensor(binary_values, dtype=torch.float32)\n",
    "with torch.no_grad():\n",
    "    y_pred = model(X_pred)\n",
    "    y_pred = torch.round(y_pred)\n",
    "    print(\"Valores de entrada:\")\n",
    "    print(binary_values)\n",
    "    print(\"Etiquetas predichas:\")\n",
    "    print(y_pred.numpy().astype(int).flatten())"
   ]
  }
 ],
 "metadata": {
  "kernelspec": {
   "display_name": "Python 3",
   "language": "python",
   "name": "python3"
  },
  "language_info": {
   "codemirror_mode": {
    "name": "ipython",
    "version": 3
   },
   "file_extension": ".py",
   "mimetype": "text/x-python",
   "name": "python",
   "nbconvert_exporter": "python",
   "pygments_lexer": "ipython3",
   "version": "3.10.6"
  },
  "orig_nbformat": 4
 },
 "nbformat": 4,
 "nbformat_minor": 2
}
