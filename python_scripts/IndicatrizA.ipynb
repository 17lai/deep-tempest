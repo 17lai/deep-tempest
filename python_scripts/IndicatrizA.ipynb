{
 "cells": [
  {
   "cell_type": "code",
   "execution_count": 4,
   "metadata": {},
   "outputs": [],
   "source": [
    "import torch\n",
    "import torch.nn as nn\n",
    "import torch.optim as optim\n",
    "import numpy as np\n"
   ]
  },
  {
   "cell_type": "code",
   "execution_count": 5,
   "metadata": {},
   "outputs": [],
   "source": [
    "# Definir la red neuronal\n",
    "class BinaryClassifier(nn.Module):\n",
    "    def __init__(self):\n",
    "        super(BinaryClassifier, self).__init__()\n",
    "        self.fc1 = nn.Linear(8, 1)\n",
    "    \n",
    "    def forward(self, x):\n",
    "        x = torch.sigmoid(self.fc1(x))\n",
    "        return x"
   ]
  },
  {
   "cell_type": "code",
   "execution_count": 6,
   "metadata": {},
   "outputs": [
    {
     "name": "stdout",
     "output_type": "stream",
     "text": [
      "Valores:\n",
      "[[0 0 0 ... 0 0 0]\n",
      " [0 0 0 ... 0 0 1]\n",
      " [0 0 0 ... 0 1 0]\n",
      " ...\n",
      " [1 1 1 ... 1 0 1]\n",
      " [1 1 1 ... 1 1 0]\n",
      " [1 1 1 ... 1 1 1]]\n",
      "Etiquetas:\n",
      "[0 0 0 0 0 0 0 0 0 0 0 0 0 0 0 1 0 0 0 0 0 0 0 1 0 0 0 1 0 1 1 1 0 0 0 0 0\n",
      " 0 0 1 0 0 0 1 0 1 1 1 0 0 0 1 0 1 1 1 0 1 1 1 1 1 1 1 0 0 0 0 0 0 0 1 0 0\n",
      " 0 1 0 1 1 1 0 0 0 1 0 1 1 1 0 1 1 1 1 1 1 1 0 0 0 1 0 1 1 1 0 1 1 1 1 1 1\n",
      " 1 0 1 1 1 1 1 1 1 1 1 1 1 1 1 1 1 0 0 0 0 0 0 0 0 0 0 0 0 0 0 0 1 0 0 0 0\n",
      " 0 0 0 1 0 0 0 1 0 1 1 1 0 0 0 0 0 0 0 1 0 0 0 1 0 1 1 1 0 0 0 1 0 1 1 1 0\n",
      " 1 1 1 1 1 1 1 0 0 0 0 0 0 0 1 0 0 0 1 0 1 1 1 0 0 0 1 0 1 1 1 0 1 1 1 1 1\n",
      " 1 1 0 0 0 1 0 1 1 1 0 1 1 1 1 1 1 1 0 1 1 1 1 1 1 1 1 1 1 1 1 1 1 1]\n"
     ]
    }
   ],
   "source": [
    "# Generar todos los números de 8 bits\n",
    "numbers = np.arange(256, dtype=np.uint8)\n",
    "binary_numbers = np.unpackbits(numbers.reshape(-1, 1), axis=1)\n",
    "\n",
    "# Calcular la cantidad de bits de 1 en cada número\n",
    "num_ones = np.sum(binary_numbers, axis=1)\n",
    "\n",
    "# Etiquetar los números que cumplen con la condición\n",
    "labels = np.where((num_ones > 4) | ((num_ones == 4) & (binary_numbers[:, 0] == 0)), 1, 0)\n",
    "print(\"Valores:\")\n",
    "print(binary_numbers )\n",
    "print(\"Etiquetas:\")\n",
    "print(labels)\n",
    "\n",
    "# Convertir los datos a tensores de PyTorch\n",
    "X = torch.tensor(binary_numbers, dtype=torch.float32)\n",
    "y = torch.tensor(labels.reshape(-1, 1), dtype=torch.float32)\n"
   ]
  },
  {
   "cell_type": "code",
   "execution_count": 7,
   "metadata": {},
   "outputs": [],
   "source": [
    "# Inicializar la red neuronal, la función de pérdida y el optimizador\n",
    "model = BinaryClassifier()\n",
    "criterion = nn.BCELoss()\n",
    "optimizer = optim.Adam(model.parameters(), lr=0.01)"
   ]
  },
  {
   "cell_type": "code",
   "execution_count": 11,
   "metadata": {},
   "outputs": [
    {
     "name": "stdout",
     "output_type": "stream",
     "text": [
      "Época [1000/100000], Pérdida: 0.0012\n",
      "Época [2000/100000], Pérdida: 0.0008\n",
      "Época [3000/100000], Pérdida: 0.0005\n",
      "Época [4000/100000], Pérdida: 0.0003\n",
      "Época [5000/100000], Pérdida: 0.0002\n",
      "Época [6000/100000], Pérdida: 0.0001\n",
      "Época [7000/100000], Pérdida: 0.0001\n",
      "Época [8000/100000], Pérdida: 0.0001\n",
      "Época [9000/100000], Pérdida: 0.0000\n",
      "Época [10000/100000], Pérdida: 0.0000\n",
      "Época [11000/100000], Pérdida: 0.0000\n",
      "Época [12000/100000], Pérdida: 0.0000\n",
      "Época [13000/100000], Pérdida: 0.0000\n",
      "Época [14000/100000], Pérdida: 0.0000\n",
      "Época [15000/100000], Pérdida: 0.0000\n",
      "Época [16000/100000], Pérdida: 0.0000\n",
      "Época [17000/100000], Pérdida: 0.0000\n",
      "Época [18000/100000], Pérdida: 0.0000\n",
      "Época [19000/100000], Pérdida: 0.0000\n",
      "Época [20000/100000], Pérdida: 0.0000\n",
      "Época [21000/100000], Pérdida: 0.0000\n",
      "Época [22000/100000], Pérdida: 0.0000\n",
      "Época [23000/100000], Pérdida: 0.0000\n",
      "Época [24000/100000], Pérdida: 0.0000\n",
      "Época [25000/100000], Pérdida: 0.0000\n",
      "Época [26000/100000], Pérdida: 0.0000\n",
      "Época [27000/100000], Pérdida: 0.0000\n",
      "Época [28000/100000], Pérdida: 0.0000\n",
      "Época [29000/100000], Pérdida: 0.0000\n",
      "Época [30000/100000], Pérdida: 0.0000\n",
      "Época [31000/100000], Pérdida: 0.0000\n",
      "Época [32000/100000], Pérdida: 0.0000\n",
      "Época [33000/100000], Pérdida: 0.0000\n",
      "Época [34000/100000], Pérdida: 0.0000\n",
      "Época [35000/100000], Pérdida: 0.0000\n",
      "Época [36000/100000], Pérdida: 0.0000\n",
      "Época [37000/100000], Pérdida: 0.0000\n",
      "Época [38000/100000], Pérdida: 0.0000\n",
      "Época [39000/100000], Pérdida: 0.0000\n",
      "Época [40000/100000], Pérdida: 0.0000\n",
      "Época [41000/100000], Pérdida: 0.0000\n",
      "Época [42000/100000], Pérdida: 0.0000\n",
      "Época [43000/100000], Pérdida: 0.0000\n",
      "Época [44000/100000], Pérdida: 0.0000\n",
      "Época [45000/100000], Pérdida: 0.0000\n",
      "Época [46000/100000], Pérdida: 0.0000\n",
      "Época [47000/100000], Pérdida: 0.0000\n",
      "Época [48000/100000], Pérdida: 0.0000\n",
      "Época [49000/100000], Pérdida: 0.0000\n",
      "Época [50000/100000], Pérdida: 0.0000\n",
      "Época [51000/100000], Pérdida: 0.0000\n",
      "Época [52000/100000], Pérdida: 0.0000\n",
      "Época [53000/100000], Pérdida: 0.0000\n",
      "Época [54000/100000], Pérdida: 0.0000\n",
      "Época [55000/100000], Pérdida: 0.0000\n",
      "Época [56000/100000], Pérdida: 0.0000\n",
      "Época [57000/100000], Pérdida: 0.0000\n",
      "Época [58000/100000], Pérdida: 0.0000\n",
      "Época [59000/100000], Pérdida: 0.0000\n",
      "Época [60000/100000], Pérdida: 0.0000\n",
      "Época [61000/100000], Pérdida: 0.0000\n",
      "Época [62000/100000], Pérdida: 0.0000\n",
      "Época [63000/100000], Pérdida: 0.0000\n",
      "Época [64000/100000], Pérdida: 0.0000\n",
      "Época [65000/100000], Pérdida: 0.0000\n",
      "Época [66000/100000], Pérdida: 0.0000\n",
      "Época [67000/100000], Pérdida: 0.0000\n",
      "Época [68000/100000], Pérdida: 0.0000\n",
      "Época [69000/100000], Pérdida: 0.0000\n",
      "Época [70000/100000], Pérdida: 0.0000\n",
      "Época [71000/100000], Pérdida: 0.0000\n",
      "Época [72000/100000], Pérdida: 0.0000\n",
      "Época [73000/100000], Pérdida: 0.0000\n",
      "Época [74000/100000], Pérdida: 0.0000\n",
      "Época [75000/100000], Pérdida: 0.0000\n",
      "Época [76000/100000], Pérdida: 0.0000\n",
      "Época [77000/100000], Pérdida: 0.0000\n",
      "Época [78000/100000], Pérdida: 0.0000\n",
      "Época [79000/100000], Pérdida: 0.0000\n",
      "Época [80000/100000], Pérdida: 0.0000\n",
      "Época [81000/100000], Pérdida: 0.0000\n",
      "Época [82000/100000], Pérdida: 0.0000\n",
      "Época [83000/100000], Pérdida: 0.0000\n",
      "Época [84000/100000], Pérdida: 0.0000\n",
      "Época [85000/100000], Pérdida: 0.0000\n",
      "Época [86000/100000], Pérdida: 0.0000\n",
      "Época [87000/100000], Pérdida: 0.0000\n",
      "Época [88000/100000], Pérdida: 0.0000\n",
      "Época [89000/100000], Pérdida: 0.0000\n",
      "Época [90000/100000], Pérdida: 0.0000\n",
      "Época [91000/100000], Pérdida: 0.0000\n",
      "Época [92000/100000], Pérdida: 0.0000\n",
      "Época [93000/100000], Pérdida: 0.0000\n",
      "Época [94000/100000], Pérdida: 0.0000\n",
      "Época [95000/100000], Pérdida: 0.0000\n",
      "Época [96000/100000], Pérdida: 0.0000\n",
      "Época [97000/100000], Pérdida: 0.0000\n",
      "Época [98000/100000], Pérdida: 0.0000\n",
      "Época [99000/100000], Pérdida: 0.0000\n",
      "Época [100000/100000], Pérdida: 0.0000\n"
     ]
    }
   ],
   "source": [
    "# Entrenar la red neuronal\n",
    "num_epochs = 100000\n",
    "for epoch in range(num_epochs):\n",
    "    # Paso de adelante (forward)\n",
    "    y_pred = model(X)\n",
    "    \n",
    "    # Calcular la pérdida\n",
    "    loss = criterion(y_pred, y)\n",
    "    \n",
    "    # Paso de atrás (backward) y actualización de los pesos\n",
    "    optimizer.zero_grad()\n",
    "    loss.backward()\n",
    "    optimizer.step()\n",
    "    \n",
    "    # Imprimir la pérdida en cada 1000 épocas\n",
    "    if (epoch + 1) % 1000 == 0:\n",
    "        print(f'Época [{epoch + 1}/{num_epochs}], Pérdida: {loss.item():.4f}')"
   ]
  },
  {
   "cell_type": "code",
   "execution_count": 9,
   "metadata": {},
   "outputs": [
    {
     "name": "stdout",
     "output_type": "stream",
     "text": [
      "Precisión en el conjunto de datos completo: 1.0000\n"
     ]
    }
   ],
   "source": [
    "# Evaluar la precisión del modelo en el conjunto de datos completo\n",
    "with torch.no_grad():\n",
    "    y_pred = model(X)\n",
    "    y_pred = torch.round(y_pred)\n",
    "    accuracy = (y_pred == y).sum().item() / y.size(0)\n",
    "    print(f'Precisión en el conjunto de datos completo: {accuracy:.4f}')"
   ]
  },
  {
   "cell_type": "code",
   "execution_count": 12,
   "metadata": {},
   "outputs": [
    {
     "name": "stdout",
     "output_type": "stream",
     "text": [
      "fc1.weight tensor([[-7.8433e-04,  3.7006e+01,  3.7006e+01,  3.7006e+01,  3.7005e+01,\n",
      "          3.7006e+01,  3.7006e+01,  3.7007e+01]])\n",
      "fc1.bias tensor([-131.3873])\n"
     ]
    }
   ],
   "source": [
    "# show weights and bias\n",
    "for name, param in model.named_parameters():\n",
    "    if param.requires_grad:\n",
    "        print(name, param.data)"
   ]
  },
  {
   "cell_type": "code",
   "execution_count": 10,
   "metadata": {},
   "outputs": [
    {
     "name": "stdout",
     "output_type": "stream",
     "text": [
      "Valores de entrada:\n",
      "[[0 0 1 0 1 0 1 1]\n",
      " [1 1 0 1 0 0 0 1]\n",
      " [1 1 1 1 1 1 1 1]\n",
      " [0 0 0 0 0 1 1 1]]\n",
      "Etiquetas predichas:\n",
      "[1 0 1 0]\n"
     ]
    }
   ],
   "source": [
    "values = np.array([0b00101011, 0b11010001, 0b11111111, 0b00000111], dtype=np.uint8)\n",
    "binary_values = np.unpackbits(values.reshape(-1, 1), axis=1)\n",
    "X_pred = torch.tensor(binary_values, dtype=torch.float32)\n",
    "with torch.no_grad():\n",
    "    y_pred = model(X_pred)\n",
    "    y_pred = torch.round(y_pred)\n",
    "    print(\"Valores de entrada:\")\n",
    "    print(binary_values)\n",
    "    print(\"Etiquetas predichas:\")\n",
    "    print(y_pred.numpy().astype(int).flatten())"
   ]
  }
 ],
 "metadata": {
  "kernelspec": {
   "display_name": "Python 3",
   "language": "python",
   "name": "python3"
  },
  "language_info": {
   "codemirror_mode": {
    "name": "ipython",
    "version": 3
   },
   "file_extension": ".py",
   "mimetype": "text/x-python",
   "name": "python",
   "nbconvert_exporter": "python",
   "pygments_lexer": "ipython3",
   "version": "3.10.6"
  },
  "orig_nbformat": 4
 },
 "nbformat": 4,
 "nbformat_minor": 2
}
