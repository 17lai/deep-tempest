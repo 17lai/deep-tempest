{
 "cells": [
  {
   "cell_type": "markdown",
   "metadata": {},
   "source": [
    "# Imports & functions"
   ]
  },
  {
   "cell_type": "code",
   "execution_count": null,
   "metadata": {},
   "outputs": [],
   "source": [
    "import os\n",
    "import numpy as np\n",
    "import torch\n",
    "import torch.nn as nn\n",
    "from matplotlib import pyplot as plt\n",
    "from PIL import Image\n",
    "from drunet.utils_image import patches_max_entropy_thrs, max_entropy_thrs\n",
    "from skimage.io import imread\n",
    "from torchaudio import transforms"
   ]
  },
  {
   "cell_type": "code",
   "execution_count": null,
   "metadata": {},
   "outputs": [],
   "source": [
    "# List images from folder\n",
    "\n",
    "folder = \"images/capture_Zhu_Robust_Facial_Landmark_Detection_via_Occlusion-Adaptive_Deep_Networks_CVPR_2019_paper\"\n",
    "# folder = \"images/capture_Screenshot from 2023-08-29 17-32-08\"\n",
    "# folder = \"images/capture_Screenshot from 2023-09-04 10-11-20\"\n",
    "# folder = \"images/capture_10484\"\n",
    "file_names = os.listdir(folder)\n",
    "files = [os.path.join(folder,filename) for filename in file_names]\n",
    "files"
   ]
  },
  {
   "cell_type": "code",
   "execution_count": null,
   "metadata": {},
   "outputs": [],
   "source": [
    "# %matplotlib widget\n",
    "for file in files:\n",
    "    #Load image\n",
    "    I = imread(file)[:,:,:2]\n",
    "\n",
    "    # Get phase and quadrature components thresholded\n",
    "    I_phase_thrs = max_entropy_thrs(I[:,:,0])\n",
    "    I_quadr_thrs = max_entropy_thrs(I[:,:,1])\n",
    "\n",
    "    # Uncomment to threshold by patches\n",
    "    # I_phase_thrs = patches_max_entropy_thrs(I[:,:,0], patch_size = 128)\n",
    "    # I_quadr_thrs = patches_max_entropy_thrs(I[:,:,1], patch_size = 128)\n",
    "\n",
    "    # Select \"best\" threshold by counting amount of zeros/black pixels\n",
    "    better_init = \"phase\"\n",
    "    if np.sum(I_phase_thrs) > np.sum(I_quadr_thrs):\n",
    "        better_init = \"quadrature\"\n",
    "\n",
    "    # Show phase and quadrature components\n",
    "    _, ax = plt.subplots(1,3, figsize=(18,10), sharex=True, sharey=True)\n",
    "    plt.suptitle(f\"Better initialization: {better_init}\", y=0.65)\n",
    "    ax[0].imshow(I_phase_thrs,cmap='gray'), ax[0].axis('off'), ax[0].set_title('Phase thresholded')\n",
    "    ax[1].imshow(I_quadr_thrs,cmap='gray'), ax[1].axis('off'), ax[1].set_title('Quadrature thresholded')\n",
    "    ax[2].imshow(I_phase_thrs*I_quadr_thrs,cmap='gray'), ax[2].axis('off'), ax[2].set_title('Both multiplied')\n",
    "    plt.show()"
   ]
  },
  {
   "cell_type": "code",
   "execution_count": null,
   "metadata": {},
   "outputs": [],
   "source": [
    "# Should be [0,1] or [False, True]\n",
    "np.unique(I_phase_thrs*I_quadr_thrs)"
   ]
  }
 ],
 "metadata": {
  "kernelspec": {
   "display_name": "ceibal_speaker_env",
   "language": "python",
   "name": "python3"
  },
  "language_info": {
   "codemirror_mode": {
    "name": "ipython",
    "version": 3
   },
   "file_extension": ".py",
   "mimetype": "text/x-python",
   "name": "python",
   "nbconvert_exporter": "python",
   "pygments_lexer": "ipython3",
   "version": "3.9.13"
  },
  "orig_nbformat": 4
 },
 "nbformat": 4,
 "nbformat_minor": 2
}
