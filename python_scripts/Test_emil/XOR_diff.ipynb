{
 "cells": [
  {
   "cell_type": "code",
   "execution_count": 2,
   "metadata": {},
   "outputs": [],
   "source": [
    "import torch\n",
    "import torch.nn as nn\n",
    "import torch.optim as optim"
   ]
  },
  {
   "cell_type": "code",
   "execution_count": 3,
   "metadata": {},
   "outputs": [],
   "source": [
    "# Definir los datos de entrada y salida para la función XNOR\n",
    "X = torch.tensor([[0, 0], [0, 1], [1, 0], [1, 1]], dtype=torch.float32)\n",
    "y = torch.tensor([[0], [1], [1], [0]], dtype=torch.float32)"
   ]
  },
  {
   "cell_type": "code",
   "execution_count": 4,
   "metadata": {},
   "outputs": [],
   "source": [
    "# Definir la estructura de la red neuronal\n",
    "class XNOR_MLP(nn.Module):\n",
    "    def __init__(self):\n",
    "        super(XNOR_MLP, self).__init__()\n",
    "        self.fc1 = nn.Linear(2, 4)\n",
    "        self.fc2 = nn.Linear(4, 1)\n",
    "        self.activation = nn.Sigmoid()\n",
    "\n",
    "    def forward(self, x):\n",
    "        x = self.activation(self.fc1(x))\n",
    "        x = self.activation(self.fc2(x))\n",
    "        return x"
   ]
  },
  {
   "cell_type": "code",
   "execution_count": 5,
   "metadata": {},
   "outputs": [],
   "source": [
    "# Instanciar la red neuronal\n",
    "net = XNOR_MLP()\n",
    "\n",
    "# Definir la función de pérdida y el optimizador\n",
    "criterion = nn.MSELoss()\n",
    "optimizer = optim.SGD(net.parameters(), lr=0.1)"
   ]
  },
  {
   "cell_type": "code",
   "execution_count": 6,
   "metadata": {},
   "outputs": [],
   "source": [
    "# Entrenamiento de la red neuronal\n",
    "for epoch in range(10000):\n",
    "    optimizer.zero_grad()   # Limpiar los gradientes de los parámetros\n",
    "    output = net(X)         # Forward pass\n",
    "    loss = criterion(output, y)  # Calcular la función de pérdida\n",
    "    loss.backward()         # Backward pass\n",
    "    optimizer.step()        # Actualizar los parámetros"
   ]
  },
  {
   "cell_type": "code",
   "execution_count": 7,
   "metadata": {},
   "outputs": [
    {
     "name": "stdout",
     "output_type": "stream",
     "text": [
      "tensor([[0.1328],\n",
      "        [0.8657],\n",
      "        [0.8796],\n",
      "        [0.1168]])\n",
      "tensor([[0],\n",
      "        [1],\n",
      "        [1],\n",
      "        [0]], dtype=torch.int32)\n"
     ]
    }
   ],
   "source": [
    "# Evaluar la red neuronal\n",
    "net.eval()          # Cambiar a modo evaluación\n",
    "with torch.no_grad():\n",
    "    output = net(X)\n",
    "    print(output)\n",
    "    output = output.round()\n",
    "    print(output.int())"
   ]
  },
  {
   "cell_type": "code",
   "execution_count": 8,
   "metadata": {},
   "outputs": [
    {
     "name": "stdout",
     "output_type": "stream",
     "text": [
      "fc1.weight tensor([[-3.8973,  4.0330],\n",
      "        [-4.1031,  3.8928],\n",
      "        [-0.6775,  0.8108],\n",
      "        [ 2.3834, -2.4550]])\n",
      "fc1.bias tensor([ 2.2917, -2.1209, -0.6751, -1.6954])\n",
      "fc2.weight tensor([[-4.5110,  5.7411,  1.0059,  2.4664]])\n",
      "fc2.bias tensor([0.8839])\n"
     ]
    }
   ],
   "source": [
    "# Imprimir los parámetros de todas las capas de la red neuronal\n",
    "for name, param in net.named_parameters():\n",
    "    if 'weight' in name:\n",
    "        print(name, param.data)\n",
    "    if 'bias' in name:\n",
    "        print(name, param.data)"
   ]
  }
 ],
 "metadata": {
  "kernelspec": {
   "display_name": "Python 3",
   "language": "python",
   "name": "python3"
  },
  "language_info": {
   "codemirror_mode": {
    "name": "ipython",
    "version": 3
   },
   "file_extension": ".py",
   "mimetype": "text/x-python",
   "name": "python",
   "nbconvert_exporter": "python",
   "pygments_lexer": "ipython3",
   "version": "3.10.6"
  },
  "orig_nbformat": 4
 },
 "nbformat": 4,
 "nbformat_minor": 2
}
